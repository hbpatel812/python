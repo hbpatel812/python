{
 "cells": [
  {
   "cell_type": "code",
   "execution_count": 2,
   "id": "234c3965-4c9e-4649-af2e-7149b4040a4c",
   "metadata": {},
   "outputs": [
    {
     "data": {
      "text/plain": [
       "[1, 3, 5, 7, 9, 11, 13, 15, 17, 19, 21, 23, 25]"
      ]
     },
     "execution_count": 2,
     "metadata": {},
     "output_type": "execute_result"
    }
   ],
   "source": [
    "\"\"\"\n",
    "Q1. Which keyword is used to create a function? Create a function to return a list of odd numbers in the\n",
    "range of 1 to 25.\n",
    "\n",
    "A.\n",
    "The def keyword is used to create a function.\n",
    "\"\"\"\n",
    "\n",
    "def function1():    \n",
    "    l1 = []\n",
    "    for i in range(1,26,2):\n",
    "        l1.append(i)\n",
    "    return l1\n",
    "\n",
    "function1()\n"
   ]
  },
  {
   "cell_type": "code",
   "execution_count": 3,
   "id": "145759bd-f0f6-46d5-af05-8322ae976b5a",
   "metadata": {},
   "outputs": [
    {
     "name": "stdout",
     "output_type": "stream",
     "text": [
      "45\n",
      "3900\n"
     ]
    }
   ],
   "source": [
    "\"\"\"\n",
    "Q2. Why *args and **kwargs is used in some functions? Create a function each for *args and **kwargs\n",
    "to demonstrate their use.\n",
    "\n",
    "*args == *args is used to pass variable number of arguments to the function.\n",
    "\n",
    "Example:\n",
    "\"\"\"\n",
    "\n",
    "def example1(*args):\n",
    "    sum=0\n",
    "    for i in args:\n",
    "        sum=sum+i\n",
    "    print(sum)\n",
    "        \n",
    "example1(3,5,2,7,8,5,3,2,1,9)\n",
    "example1(234,3453,213)"
   ]
  },
  {
   "cell_type": "code",
   "execution_count": 8,
   "id": "9ca36fcc-2886-4260-9d1e-7c33b70825ef",
   "metadata": {},
   "outputs": [
    {
     "data": {
      "text/plain": [
       "{'company': 'pwskills', 'course': 'Data Science Masters'}"
      ]
     },
     "execution_count": 8,
     "metadata": {},
     "output_type": "execute_result"
    }
   ],
   "source": [
    "\"\"\"\n",
    "**kwargs == **kwargs is used to pass variable number of key-value pair as argument to the function.\n",
    "\n",
    "Example:\n",
    "\"\"\"\n",
    "def example2(**kwargs):\n",
    "        return kwargs\n",
    "        \n",
    "example2(company='pwskills',course='Data Science Masters')"
   ]
  },
  {
   "cell_type": "code",
   "execution_count": 10,
   "id": "32412490-1aab-4cc1-bd6f-46e4b0a83aaa",
   "metadata": {},
   "outputs": [
    {
     "name": "stdout",
     "output_type": "stream",
     "text": [
      "2\n",
      "4\n",
      "6\n",
      "8\n",
      "10\n"
     ]
    }
   ],
   "source": [
    "\"\"\"\n",
    "Q3. What is an iterator in python? Name the method used to initialise the iterator object and the method\n",
    "used for iteration. Use these methods to print the first five elements of the given list [2, 4, 6, 8, 10, 12, 14,\n",
    "16, 18, 20].\n",
    "\n",
    "iterator = An iterator is an object that contains number of values.\n",
    "List,tuple,set and dictionary are the iterators.\n",
    "There is a iter() method which is used for iteration.\n",
    "\"\"\"\n",
    "l = [2, 4, 6, 8, 10, 12, 14, 16, 18, 20]\n",
    "myit = iter(l)\n",
    "\n",
    "for i in range(5):    \n",
    "    print(next(myit))"
   ]
  },
  {
   "cell_type": "code",
   "execution_count": 1,
   "id": "e6ecf14a-8348-4ace-bbd1-04971e5af9a2",
   "metadata": {},
   "outputs": [
    {
     "name": "stdout",
     "output_type": "stream",
     "text": [
      "1\n",
      "2\n",
      "3\n"
     ]
    }
   ],
   "source": [
    "\"\"\"\n",
    "Q4. What is a generator function in python? Why yield keyword is used? Give an example of a generator\n",
    "function.\n",
    "\n",
    "A. generator function: A generator function is defined like a normal function, but whenever it needs to generate a value,\n",
    "it does so with the yield keyword instead of return. If the body of any function contains yield keyword, it \n",
    "automatically beomes a generator function.\n",
    "\n",
    "Yield: yield is used to generate a value in function.\n",
    "\"\"\"\n",
    "\n",
    "def exampleOfGenerator():\n",
    "    yield 1\n",
    "    yield 2\n",
    "    yield 3\n",
    "\n",
    "for value in exampleOfGenerator():\n",
    "    print(value)"
   ]
  },
  {
   "cell_type": "code",
   "execution_count": 8,
   "id": "5a889669-a767-433d-ba0b-1ffc17f21df9",
   "metadata": {},
   "outputs": [
    {
     "name": "stdout",
     "output_type": "stream",
     "text": [
      "2\n",
      "3\n",
      "5\n",
      "7\n",
      "11\n",
      "13\n",
      "17\n",
      "19\n",
      "23\n",
      "29\n",
      "31\n",
      "37\n",
      "41\n",
      "43\n",
      "47\n",
      "53\n",
      "59\n",
      "61\n",
      "67\n",
      "71\n"
     ]
    }
   ],
   "source": [
    "\"\"\"\n",
    "Q5. Create a generator function for prime numbers less than 1000. Use the next() method to print the\n",
    "first 20 prime numbers.\n",
    "\"\"\"\n",
    "import math\n",
    "\n",
    "def getPrimes(n):\n",
    "    yield 2\n",
    "    i = 3\n",
    "    while i < n:\n",
    "        for a in getPrimes(int(math.sqrt(i))+1):\n",
    "            if i % a == 0:\n",
    "                break\n",
    "        else:\n",
    "            yield i\n",
    "        i += 2\n",
    "\n",
    "x=getPrimes(1000)\n",
    "for prime in range(20):\n",
    "    print(next(x))"
   ]
  },
  {
   "cell_type": "code",
   "execution_count": 11,
   "id": "57af1ce8-6342-4de7-b1a3-de3f68e45831",
   "metadata": {},
   "outputs": [
    {
     "name": "stdout",
     "output_type": "stream",
     "text": [
      "0\n",
      "1\n",
      "1\n",
      "2\n",
      "3\n",
      "5\n",
      "8\n",
      "13\n",
      "21\n",
      "34\n"
     ]
    }
   ],
   "source": [
    "\"\"\"\n",
    "Q6. Write a python program to print the first 10 Fibonacci numbers using a while loop.\n",
    "\"\"\"\n",
    "\n",
    "a=0\n",
    "b=1\n",
    "print(a)\n",
    "print(b)\n",
    "i=2\n",
    "while i < 10:\n",
    "    c = a + b\n",
    "    a = b\n",
    "    b = c\n",
    "    print(c)\n",
    "    i = i + 1"
   ]
  },
  {
   "cell_type": "code",
   "execution_count": 14,
   "id": "8524dab5-afc6-4059-80a4-f929271c78c7",
   "metadata": {},
   "outputs": [
    {
     "data": {
      "text/plain": [
       "['p', 'w', 's', 'k', 'i', 'l', 'l', 's']"
      ]
     },
     "execution_count": 14,
     "metadata": {},
     "output_type": "execute_result"
    }
   ],
   "source": [
    "\"\"\"\n",
    "Q7. Write a List Comprehension to iterate through the given string: ‘pwskills’.\n",
    "Expected output: ['p', 'w', 's', 'k', 'i', 'l', 'l', 's']\n",
    "\"\"\"\n",
    "str = \"pwskills\"\n",
    "[str[i] for i in range(len(str))]"
   ]
  },
  {
   "cell_type": "code",
   "execution_count": 19,
   "id": "139752cc-980f-4cc6-bf1d-260384f5d383",
   "metadata": {},
   "outputs": [
    {
     "name": "stdin",
     "output_type": "stream",
     "text": [
      "Enter the number: 121\n"
     ]
    },
    {
     "name": "stdout",
     "output_type": "stream",
     "text": [
      "given number is a palindrome number\n"
     ]
    }
   ],
   "source": [
    "\"\"\"\n",
    "Q8. Write a python program to check whether a given number is Palindrome or not using a while loop.\n",
    "\"\"\"\n",
    "\n",
    "number = int(input(\"Enter the number:\"))\n",
    "n = number \n",
    "reverse = 0\n",
    "while n > 0:\n",
    "    r = n % 10\n",
    "    n = int(n / 10)\n",
    "    reverse = reverse*10 + r\n",
    "  #  print(reverse)\n",
    "if number == reverse:\n",
    "    print(\"given number is a palindrome number\")\n",
    "else:\n",
    "    print(\"given number is not a palindrome number\")"
   ]
  },
  {
   "cell_type": "code",
   "execution_count": 22,
   "id": "b6ce4f28-57eb-4af2-847f-8463cfc1cf17",
   "metadata": {},
   "outputs": [
    {
     "data": {
      "text/plain": [
       "[1,\n",
       " 3,\n",
       " 5,\n",
       " 7,\n",
       " 9,\n",
       " 11,\n",
       " 13,\n",
       " 15,\n",
       " 17,\n",
       " 19,\n",
       " 21,\n",
       " 23,\n",
       " 25,\n",
       " 27,\n",
       " 29,\n",
       " 31,\n",
       " 33,\n",
       " 35,\n",
       " 37,\n",
       " 39,\n",
       " 41,\n",
       " 43,\n",
       " 45,\n",
       " 47,\n",
       " 49,\n",
       " 51,\n",
       " 53,\n",
       " 55,\n",
       " 57,\n",
       " 59,\n",
       " 61,\n",
       " 63,\n",
       " 65,\n",
       " 67,\n",
       " 69,\n",
       " 71,\n",
       " 73,\n",
       " 75,\n",
       " 77,\n",
       " 79,\n",
       " 81,\n",
       " 83,\n",
       " 85,\n",
       " 87,\n",
       " 89,\n",
       " 91,\n",
       " 93,\n",
       " 95,\n",
       " 97,\n",
       " 99]"
      ]
     },
     "execution_count": 22,
     "metadata": {},
     "output_type": "execute_result"
    }
   ],
   "source": [
    "\"\"\"\n",
    "Q9. Write a code to print odd numbers from 1 to 100 using list comprehension.\n",
    "\"\"\"\n",
    "\n",
    "l = [i for i in range(1,101)]\n",
    "[i for i in l if i%2!=0]"
   ]
  },
  {
   "cell_type": "code",
   "execution_count": null,
   "id": "0b5f1a52-a778-44c9-b504-6fc8dcfea27b",
   "metadata": {},
   "outputs": [],
   "source": []
  }
 ],
 "metadata": {
  "kernelspec": {
   "display_name": "Python 3 (ipykernel)",
   "language": "python",
   "name": "python3"
  },
  "language_info": {
   "codemirror_mode": {
    "name": "ipython",
    "version": 3
   },
   "file_extension": ".py",
   "mimetype": "text/x-python",
   "name": "python",
   "nbconvert_exporter": "python",
   "pygments_lexer": "ipython3",
   "version": "3.10.8"
  }
 },
 "nbformat": 4,
 "nbformat_minor": 5
}
