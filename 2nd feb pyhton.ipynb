{
 "cells": [
  {
   "cell_type": "code",
   "execution_count": 2,
   "id": "2e340450-86da-409b-9d89-450bc96d0afb",
   "metadata": {},
   "outputs": [
    {
     "data": {
      "text/plain": [
       "' For loop: for loop is used to iterate over elements of a sequence. It is often used when you have\\na piece of code which you want to repeat “n” number of time.\\n\\nExample: Print the elements of list\\nl=[1,2,3,4]\\nfor i in l:\\n   print(i)\\n\\nWhile loop: While Loop is used to repeat a block of code. Instead of running the code block once, It \\nexecutes the code block multiple times until a certain condition is met.\\n\\nExample:Print sum of all the digit of one number\\nn = 547\\nsum = 0\\nwhile n>0:\\n   r=n%10\\n   n=n/10\\n   sum=sum+r\\nprint(sum)'"
      ]
     },
     "execution_count": 2,
     "metadata": {},
     "output_type": "execute_result"
    }
   ],
   "source": [
    "#(1) Explain with an example each when to use a for loop and while loop.\n",
    "\n",
    "\"\"\" For loop: for loop is used to iterate over elements of a sequence. It is often used when you have\n",
    "a piece of code which you want to repeat “n” number of time.\n",
    "\n",
    "Example: Print the elements of list\n",
    "l=[1,2,3,4]\n",
    "for i in l:\n",
    "   print(i)\n",
    "\n",
    "While loop: While Loop is used to repeat a block of code. Instead of running the code block once, It \n",
    "executes the code block multiple times until a certain condition is met.\n",
    "\n",
    "Example:Print sum of all the digit of one number\n",
    "n = 547\n",
    "sum = 0\n",
    "while n>0:\n",
    "   r=n%10\n",
    "   n=n/10\n",
    "   sum=sum+r\n",
    "print(sum)\"\"\""
   ]
  },
  {
   "cell_type": "code",
   "execution_count": 7,
   "id": "057d9bfa-35af-4308-aed8-fc828e379b80",
   "metadata": {},
   "outputs": [
    {
     "name": "stdout",
     "output_type": "stream",
     "text": [
      "sum of first 10 natural numbers is: 55\n",
      "product of 10 natural numbers is: 3628800\n"
     ]
    }
   ],
   "source": [
    "\"\"\" Write a python program to print the sum and product of the first 10 natural numbers using for and while loop.\"\"\"\n",
    "\n",
    "#sum  and product of 10 numbers using for loop:\n",
    "\n",
    "sum = 0\n",
    "mul = 1\n",
    "for i in range(1,11):\n",
    "    sum = sum + i\n",
    "    mul = mul * i\n",
    "print(\"sum of first 10 natural numbers is:\",sum)\n",
    "print(\"product of first 10 natural numbers is:\",mul)"
   ]
  },
  {
   "cell_type": "code",
   "execution_count": 9,
   "id": "92fcf9b2-71f8-49b5-bfc8-b43f4d0645b1",
   "metadata": {},
   "outputs": [
    {
     "name": "stdout",
     "output_type": "stream",
     "text": [
      "sum of first 10 natural numbers is: 55\n",
      "product of first 10 natural numbers is: 3628800\n"
     ]
    }
   ],
   "source": [
    "# sum and product of 10 numbers using while loop\n",
    "\n",
    "sum = 0\n",
    "mul = 1\n",
    "i = 1\n",
    "while i <= 10:\n",
    "    sum = sum + i\n",
    "    mul = mul * i\n",
    "    i = i + 1\n",
    "print(\"sum of first 10 natural numbers is:\", sum)\n",
    "print(\"product of first 10 natural numbers is:\",mul)"
   ]
  },
  {
   "cell_type": "code",
   "execution_count": 11,
   "id": "ae8bc51d-070c-4794-b684-59266c53c309",
   "metadata": {},
   "outputs": [
    {
     "name": "stdin",
     "output_type": "stream",
     "text": [
      "Enter the unit of your electricity bill 310\n"
     ]
    },
    {
     "name": "stdout",
     "output_type": "stream",
     "text": [
      "Electricity bill: 2250.0\n"
     ]
    }
   ],
   "source": [
    "\"\"\" create a pyhton program to compute the electricity bill for a household.\"\"\"\n",
    "\n",
    "units = int(input(\"Enter the unit of your electricity bill\"))\n",
    "bill = 0\n",
    "if units <= 100:\n",
    "    bill = units * 4.5\n",
    "elif units > 100 and units <= 200:\n",
    "    bill = (100 * 4.5) + ((units-100) * 6)\n",
    "elif units > 200 and units <= 300:\n",
    "    bill = (100 * 4.5) + (100 * 6) + ((units-200) * 10)\n",
    "elif units > 300:\n",
    "    bill = (100 * 4.5) + (100 * 6) + (100 * 10) + ((units-300) * 20)\n",
    "print(\"Electricity bill:\", bill)"
   ]
  },
  {
   "cell_type": "code",
   "execution_count": 13,
   "id": "f4d329fc-78b1-4cdb-9250-78ad61fe7ff6",
   "metadata": {},
   "outputs": [
    {
     "name": "stdout",
     "output_type": "stream",
     "text": [
      "[2, 4, 5, 6, 8, 10, 12, 14, 15, 16, 18, 20, 22, 24, 25, 26, 28, 30, 32, 34, 35, 36, 38, 40, 42, 44, 45, 46, 48, 50, 52, 54, 55, 56, 58, 60, 62, 64, 65, 66, 68, 70, 72, 74, 75, 76, 78, 80, 82, 84, 85, 86, 88, 90, 92, 94, 95, 96, 98, 100]\n"
     ]
    }
   ],
   "source": [
    "\"\"\"Create a list of numbers from 1 to 100. Use for loop and while loop to calculate the cube of each\n",
    "number and if the cube of that number is divisible by 4 or 5 then append that number in a list and print\n",
    "that list.\"\"\"\n",
    "\n",
    "l = list(range(1,101))\n",
    "l1=[]\n",
    "for i in l:\n",
    "    if i**3%4==0 or i**3%5==0:\n",
    "        l1.append(i)\n",
    "print(l1)\n"
   ]
  },
  {
   "cell_type": "code",
   "execution_count": 15,
   "id": "8eab8706-80df-4aab-8cce-a4e944d8255b",
   "metadata": {},
   "outputs": [
    {
     "name": "stdout",
     "output_type": "stream",
     "text": [
      "String have  12  vowels\n"
     ]
    }
   ],
   "source": [
    "\"\"\"Write a program to filter count vowels in the below-given string.\n",
    "string = \"I want to become a data scientist\"    \"\"\"\n",
    "\n",
    "\n",
    "str = \"I want to become a data scientist\"\n",
    "str1= str.lower()\n",
    "l=len(str1)\n",
    "count = 0\n",
    "for i in range(0,l):\n",
    "    if str1[i]=='a' or str1[i]=='e' or str1[i]=='i' or str1[i]=='o' or str1[i]=='u':\n",
    "        count=count+1\n",
    "print(\"String have \",count,\" vowels\")"
   ]
  },
  {
   "cell_type": "code",
   "execution_count": null,
   "id": "ef8a25e2-ccd6-4d3c-a4b0-f6b1790496a6",
   "metadata": {},
   "outputs": [],
   "source": []
  }
 ],
 "metadata": {
  "kernelspec": {
   "display_name": "Python 3 (ipykernel)",
   "language": "python",
   "name": "python3"
  },
  "language_info": {
   "codemirror_mode": {
    "name": "ipython",
    "version": 3
   },
   "file_extension": ".py",
   "mimetype": "text/x-python",
   "name": "python",
   "nbconvert_exporter": "python",
   "pygments_lexer": "ipython3",
   "version": "3.10.8"
  }
 },
 "nbformat": 4,
 "nbformat_minor": 5
}
