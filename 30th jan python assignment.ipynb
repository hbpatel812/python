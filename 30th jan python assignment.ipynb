{
 "cells": [
  {
   "cell_type": "code",
   "execution_count": 1,
   "id": "a85bf58f-2ed6-450d-af0e-8d8052b6bb09",
   "metadata": {},
   "outputs": [
    {
     "name": "stdin",
     "output_type": "stream",
     "text": [
      "Enter your marks: 85\n"
     ]
    },
    {
     "name": "stdout",
     "output_type": "stream",
     "text": [
      "Grade B\n"
     ]
    }
   ],
   "source": [
    "\"\"\" \n",
    "(1) Write a program to accept percentage from the user and display the grade according to the following criteria:\n",
    "Marks       Grade\n",
    ">90           A\n",
    ">80 and <=90  B\n",
    ">=60 and <=80 C\n",
    "below 60      D \n",
    " \n",
    "(A)                            \"\"\"\n",
    "marks = int(input(\"Enter your marks:\"))\n",
    "if marks > 90 :\n",
    "    print(\"Grade A\")\n",
    "elif marks > 80 and marks <= 90 :\n",
    "    print(\"Grade B\")\n",
    "elif marks >= 60 and marks <=80 :\n",
    "    print(\"Grade C\")\n",
    "else:\n",
    "    print(\"Grade D\")"
   ]
  },
  {
   "cell_type": "code",
   "execution_count": 2,
   "id": "3029b9ed-7b25-4a8a-b6cf-e5bd1386902f",
   "metadata": {},
   "outputs": [
    {
     "name": "stdin",
     "output_type": "stream",
     "text": [
      "Enter the cost price of a bike in Rs 44000\n"
     ]
    },
    {
     "name": "stdout",
     "output_type": "stream",
     "text": [
      "5% road tax to be paid\n"
     ]
    }
   ],
   "source": [
    "\"\"\"\n",
    "(2) Write a program to accept the cost price of a bike and display the road tax to be paid according to the following \n",
    "criteria:\n",
    "\n",
    "Tax   Cost Price\n",
    "15%    >100000\n",
    "10%    >50000 and <=100000\n",
    "5%     <=50000 \n",
    "\n",
    "(A)                               \"\"\"\n",
    "\n",
    "\n",
    "cost = int(input(\"Enter the cost price of a bike in Rs\"))\n",
    "if cost > 100000 :\n",
    "    print(\"15% road tax to be paid\")\n",
    "elif cost > 50000 and cost <= 100000:\n",
    "    print(\"10% road tax to be paid\")\n",
    "elif cost <= 50000:\n",
    "    print(\"5% road tax to be paid\")"
   ]
  },
  {
   "cell_type": "code",
   "execution_count": 1,
   "id": "7ab51d74-3fa1-421b-8491-64c45404d2bb",
   "metadata": {},
   "outputs": [
    {
     "name": "stdin",
     "output_type": "stream",
     "text": [
      "Enter the name of city: delhi\n"
     ]
    },
    {
     "name": "stdout",
     "output_type": "stream",
     "text": [
      "delhi has Red Fort\n"
     ]
    }
   ],
   "source": [
    "\"\"\"\n",
    "(3) Accept any city from the user and display monuments of that city.\n",
    "\n",
    "City      Monument\n",
    "Delhi     Red Fort\n",
    "Agra      Taj Mahal\n",
    "Jaipur    Jal Mahal\n",
    "\n",
    "(A)                           \"\"\"\n",
    "city = input(\"Enter the name of city:\")\n",
    "if city == \"delhi\":\n",
    "    print(\"delhi has Red Fort\")\n",
    "elif city == \"agra\":\n",
    "    print(\"agra has Taj Mahal\")\n",
    "elif city == \"jaipur\":\n",
    "    print(\"jaipur has Jal Mahal\")"
   ]
  },
  {
   "cell_type": "code",
   "execution_count": 1,
   "id": "d692afac-a6a3-47e4-8a03-57a620dfb2f1",
   "metadata": {},
   "outputs": [
    {
     "name": "stdin",
     "output_type": "stream",
     "text": [
      "Enter the number 33\n"
     ]
    },
    {
     "name": "stdout",
     "output_type": "stream",
     "text": [
      "1\n"
     ]
    }
   ],
   "source": [
    "\"\"\" (4) Check how many times a given number can be divided by 3 before it is less than or equal to 10. \"\"\"\n",
    "\n",
    "number = int(input(\"Enter the number\"))\n",
    "number2 = number\n",
    "count = 0 \n",
    "while number > 10 and number % 3 == 0:\n",
    "    count = count + 1\n",
    "    number = number / 3\n",
    "print(count)"
   ]
  },
  {
   "cell_type": "code",
   "execution_count": 10,
   "id": "5c7590ea-7c94-4913-a188-607f758da7a9",
   "metadata": {},
   "outputs": [
    {
     "name": "stdout",
     "output_type": "stream",
     "text": [
      "5\n",
      "4\n",
      "3\n",
      "2\n",
      "1\n"
     ]
    }
   ],
   "source": [
    "\"\"\" (5) why and where to use while loop in python give a detailed description with example.\n",
    "A.\n",
    " While loop in python is used to run the block of code until a certain condition is met.\n",
    "A while loop evaluates the condition. If the condition evaluates to true then the code inside while loop is executed.\"\"\"\n",
    "\n",
    "#Example:\n",
    "n=5\n",
    "while n>0 :\n",
    "    print(n)\n",
    "    n=n-1\n",
    "\n",
    "    \"\"\"Here, while loop is evaluates the condition n>0. If the condition n>0 evaluates to true then the code inside while loop \n",
    "    is executed.\"\"\""
   ]
  },
  {
   "cell_type": "code",
   "execution_count": 21,
   "id": "7a890c00-fdb7-4773-9250-8dbd1142a799",
   "metadata": {},
   "outputs": [
    {
     "name": "stdin",
     "output_type": "stream",
     "text": [
      "Enter the number: 4\n"
     ]
    },
    {
     "name": "stdout",
     "output_type": "stream",
     "text": [
      "* \n",
      "* * \n",
      "* * * \n",
      "* * * * \n"
     ]
    }
   ],
   "source": [
    "\"\"\" (6) Use nested while loop to print 3 different patterns \"\"\"\n",
    "\n",
    "n = int(input(\"Enter the number:\"))\n",
    "i = 0\n",
    "while i < n:\n",
    "    j = 0\n",
    "    while j <= i:\n",
    "        print( \"*\", end = \" \")\n",
    "        j = j + 1\n",
    "    i = i + 1\n",
    "    print()"
   ]
  },
  {
   "cell_type": "code",
   "execution_count": 23,
   "id": "f4f84c6d-8490-4981-9c3b-2e1354247cda",
   "metadata": {},
   "outputs": [
    {
     "name": "stdin",
     "output_type": "stream",
     "text": [
      "Enter the number 6\n"
     ]
    },
    {
     "name": "stdout",
     "output_type": "stream",
     "text": [
      "* * * * * * \n",
      "* * * * * \n",
      "* * * * \n",
      "* * * \n",
      "* * \n",
      "* \n"
     ]
    }
   ],
   "source": [
    "n = int(input(\"Enter the number\"))\n",
    "i = n\n",
    "while i > 0:\n",
    "    j=0\n",
    "    while j < i:\n",
    "        print( \"*\" , end = \" \")\n",
    "        j = j + 1\n",
    "    i = i - 1\n",
    "    print()"
   ]
  },
  {
   "cell_type": "code",
   "execution_count": 29,
   "id": "59d15eee-6f3c-4de6-8800-7ad397e1232a",
   "metadata": {},
   "outputs": [
    {
     "name": "stdin",
     "output_type": "stream",
     "text": [
      "Enter the number 6\n"
     ]
    },
    {
     "name": "stdout",
     "output_type": "stream",
     "text": [
      "* * * * * * \n",
      "  * * * * * \n",
      "    * * * * \n",
      "      * * * \n",
      "        * * \n",
      "          * \n"
     ]
    }
   ],
   "source": [
    "n= int(input(\"Enter the number\"))\n",
    "i=0\n",
    "while i < n:\n",
    "    j=0\n",
    "    while j<i:\n",
    "        print(\" \",end = \" \")\n",
    "        j=j+1\n",
    "    k=n-i\n",
    "    while k>0:\n",
    "        print(\"*\", end=\" \")\n",
    "        k=k-1\n",
    "    i=i+1\n",
    "    print()"
   ]
  },
  {
   "cell_type": "code",
   "execution_count": 30,
   "id": "461e8755-a860-4467-b52f-ba29ecbd63df",
   "metadata": {},
   "outputs": [
    {
     "name": "stdout",
     "output_type": "stream",
     "text": [
      "10\n",
      "9\n",
      "8\n",
      "7\n",
      "6\n",
      "5\n",
      "4\n",
      "3\n",
      "2\n",
      "1\n"
     ]
    }
   ],
   "source": [
    "\"\"\" Reverse a while loop to display numbers from 10 to 1\"\"\"\n",
    "\n",
    "n=10\n",
    "while n>0:\n",
    "    print(n)\n",
    "    n=n-1\n",
    "    "
   ]
  },
  {
   "cell_type": "code",
   "execution_count": null,
   "id": "66d0f7d4-8d3b-4da9-a5ce-2564ea6e90b2",
   "metadata": {},
   "outputs": [],
   "source": []
  }
 ],
 "metadata": {
  "kernelspec": {
   "display_name": "Python 3 (ipykernel)",
   "language": "python",
   "name": "python3"
  },
  "language_info": {
   "codemirror_mode": {
    "name": "ipython",
    "version": 3
   },
   "file_extension": ".py",
   "mimetype": "text/x-python",
   "name": "python",
   "nbconvert_exporter": "python",
   "pygments_lexer": "ipython3",
   "version": "3.10.8"
  }
 },
 "nbformat": 4,
 "nbformat_minor": 5
}
